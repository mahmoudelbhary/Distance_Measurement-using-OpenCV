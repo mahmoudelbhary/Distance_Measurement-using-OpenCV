{
 "cells": [
  {
   "cell_type": "code",
   "execution_count": 1,
   "id": "4e8148ca",
   "metadata": {},
   "outputs": [],
   "source": [
    "import cv2"
   ]
  },
  {
   "cell_type": "code",
   "execution_count": null,
   "id": "881012f9",
   "metadata": {},
   "outputs": [],
   "source": [
    "cap=cv2.VideoCapture(0)\n",
    "while True:\n",
    "    ret,frame=cap.read()\n",
    "    frame=cv2.resize(frame,(640,480))\n",
    "    cv2.imshow('FRAME',frame)\n",
    "    if cv2.waitKey(1) == ord('a'):\n",
    "        print (\"pressed a\")\n",
    "        frame=cv2.imwrite(r\"E:\\rf.png\",frame)\n",
    "        break\n",
    "        \n",
    "cap.release()\n",
    "cv2.destroyAllWindows()"
   ]
  },
  {
   "cell_type": "code",
   "execution_count": 3,
   "id": "6a5970eb",
   "metadata": {},
   "outputs": [
    {
     "name": "stdout",
     "output_type": "stream",
     "text": [
      "748.1290322580645\n"
     ]
    }
   ],
   "source": [
    "# variables\n",
    "# distance from camera to object(face) measured\n",
    "KNOWN_DISTANCE = 52  # centimeter\n",
    "# width of face in the real world or Object Plane\n",
    "KNOWN_WIDTH = 15.5  # centimeter\n",
    "# Colors\n",
    "GREEN = (0, 255, 0)\n",
    "RED = (0, 0, 255)\n",
    "WHITE = (255, 255, 255)\n",
    "fonts = cv2.FONT_HERSHEY_COMPLEX\n",
    "cap = cv2.VideoCapture(0)\n",
    "\n",
    "# face detector object\n",
    "face_detector = cv2.CascadeClassifier(\"haarcascade_frontalface_default.xml\")\n",
    "\n",
    "\n",
    "# focal length finder function\n",
    "def focal_length(measured_distance, real_width, width_in_rf_image):\n",
    "    \"\"\"\n",
    "    This Function Calculate the Focal Length(distance between lens to CMOS sensor), it is simple constant we can find by using\n",
    "    MEASURED_DISTACE, REAL_WIDTH(Actual width of object) and WIDTH_OF_OBJECT_IN_IMAGE\n",
    "    :param1 Measure_Distance(int): It is distance measured from object to the Camera while Capturing Reference image\n",
    "    :param2 Real_Width(int): It is Actual width of object, in real world (like My face width is = 14.3 centimeters)\n",
    "    :param3 Width_In_Image(int): It is object width in the frame /image in our case in the reference image(found by Face detector)\n",
    "    :retrun focal_length(Float):\"\"\"\n",
    "    focal_length_value = (width_in_rf_image * measured_distance) / real_width\n",
    "    return focal_length_value\n",
    "\n",
    "\n",
    "# distance estimation function\n",
    "def distance_finder(focal_length, real_face_width, face_width_in_frame):\n",
    "    \"\"\"\n",
    "    This Function simply Estimates the distance between object and camera using arguments(focal_length, Actual_object_width, Object_width_in_the_image)\n",
    "    :param1 focal_length(float): return by the focal_length_Finder function\n",
    "    :param2 Real_Width(int): It is Actual width of object, in real world (like My face width is = 5.7 Inches)\n",
    "    :param3 object_Width_Frame(int): width of object in the image(frame in our case, using Video feed)\n",
    "    :return Distance(float) : distance Estimated\n",
    "    \"\"\"\n",
    "    distance = (real_face_width * focal_length) / face_width_in_frame\n",
    "    return distance\n",
    "\n",
    "\n",
    "# face detector function\n",
    "def face_data(image):\n",
    "    \"\"\"\n",
    "    This function Detect the face\n",
    "    :param Takes image as argument.\n",
    "    :returns face_width in the pixels\n",
    "    \"\"\"\n",
    "\n",
    "    face_width = 0\n",
    "    gray_image = cv2.cvtColor(image, cv2.COLOR_BGR2GRAY)\n",
    "    faces = face_detector.detectMultiScale(gray_image, 1.3, 5)\n",
    "    for (x, y, h, w) in faces:\n",
    "        cv2.rectangle(image, (x, y), (x + w, y + h), WHITE, 1)\n",
    "        face_width = w\n",
    "\n",
    "    return face_width\n",
    "\n",
    "\n",
    "# reading reference image from directory\n",
    "ref_image = cv2.imread(r\"E:\\rf.png\")\n",
    "\n",
    "ref_image_face_width = face_data(ref_image)\n",
    "focal_length_found = focal_length(KNOWN_DISTANCE, KNOWN_WIDTH, ref_image_face_width)\n",
    "print(focal_length_found)\n",
    "cv2.imshow(\"ref_image\", ref_image)\n",
    "\n",
    "while True:\n",
    "    _, frame = cap.read()\n",
    "\n",
    "    # calling face_data function\n",
    "    face_width_in_frame = face_data(frame)\n",
    "    # finding the distance by calling function Distance\n",
    "    if face_width_in_frame != 0:\n",
    "        Distance = distance_finder(focal_length_found, KNOWN_WIDTH, face_width_in_frame)\n",
    "        # Drwaing Text on the screen\n",
    "        cv2.putText(\n",
    "            frame, f\"Distance = {round(Distance,2)} CM\", (50, 50), fonts, 1, (WHITE), 2\n",
    "        )\n",
    "    cv2.imshow(\"frame\", frame)\n",
    "    if cv2.waitKey(1) == ord(\"q\"):\n",
    "        break\n",
    "cap.release()\n",
    "cv2.destroyAllWindows()"
   ]
  },
  {
   "cell_type": "code",
   "execution_count": null,
   "id": "73695f8b",
   "metadata": {},
   "outputs": [],
   "source": []
  }
 ],
 "metadata": {
  "kernelspec": {
   "display_name": "Python 3 (ipykernel)",
   "language": "python",
   "name": "python3"
  },
  "language_info": {
   "codemirror_mode": {
    "name": "ipython",
    "version": 3
   },
   "file_extension": ".py",
   "mimetype": "text/x-python",
   "name": "python",
   "nbconvert_exporter": "python",
   "pygments_lexer": "ipython3",
   "version": "3.9.12"
  }
 },
 "nbformat": 4,
 "nbformat_minor": 5
}
